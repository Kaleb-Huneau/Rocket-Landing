{
 "cells": [
  {
   "cell_type": "code",
   "execution_count": 12,
   "id": "65a78157",
   "metadata": {},
   "outputs": [],
   "source": [
    "import numpy as np\n",
    "import matplotlib.pyplot as plt"
   ]
  },
  {
   "cell_type": "code",
   "execution_count": 13,
   "id": "56d009b3",
   "metadata": {},
   "outputs": [],
   "source": [
    "#Dictionary of all possible actions the agent can make\n",
    "options = {'U': (0, 1), 'D': (0, 1), 'L': (0, 1), 'R': (0, 1)}"
   ]
  },
  {
   "cell_type": "code",
   "execution_count": 26,
   "id": "70529290",
   "metadata": {},
   "outputs": [],
   "source": [
    "class Maze():\n",
    "    def __init__(self):\n",
    "        # start with defining your maze\n",
    "        self.maze = np.zeros((6, 6))\n",
    "        self.maze[0, 0] = 2\n",
    "        self.maze[5, :5] = 1\n",
    "        self.maze[:4, 5] = 1\n",
    "        self.maze[2, 2:] = 1\n",
    "        self.maze[3, 2] = 1\n",
    "        self.robot_position = (0, 0) # current robot position\n",
    "        self.steps = 0 # contains num steps robot took\n",
    "        self.allowed_states = None # for now, this is none\n",
    "        #self.construct_allowed_states() # not implemented yet\n",
    "        \n",
    "    def showMaze(self):\n",
    "        plt.imshow(self.maze)\n",
    "        plt.title(\"Maze Environment\")\n",
    "        \n"
   ]
  },
  {
   "cell_type": "code",
   "execution_count": 27,
   "id": "8aa44d3e",
   "metadata": {},
   "outputs": [
    {
     "data": {
      "image/png": "[encoded data removed]",
      "text/plain": [
       "<Figure size 432x288 with 1 Axes>"
      ]
     },
     "metadata": {
      "needs_background": "light"
     },
     "output_type": "display_data"
    }
   ],
   "source": [
    "#Here's what the maze looks like\n",
    "maze = Maze()\n",
    "maze.showMaze()"
   ]
  },
  {
   "cell_type": "code",
   "execution_count": null,
   "id": "4c8070f6",
   "metadata": {},
   "outputs": [],
   "source": []
  }
 ],
 "metadata": {
  "kernelspec": {
   "display_name": "Python 3",
   "language": "python",
   "name": "python3"
  },
  "language_info": {
   "codemirror_mode": {
    "name": "ipython",
    "version": 3
   },
   "file_extension": ".py",
   "mimetype": "text/x-python",
   "name": "python",
   "nbconvert_exporter": "python",
   "pygments_lexer": "ipython3",
   "version": "3.8.8"
  }
 },
 "nbformat": 4,
 "nbformat_minor": 5
}
